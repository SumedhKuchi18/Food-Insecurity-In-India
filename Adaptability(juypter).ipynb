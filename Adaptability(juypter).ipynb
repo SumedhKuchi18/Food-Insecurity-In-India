{
 "cells": [
  {
   "cell_type": "code",
   "execution_count": 57,
   "metadata": {},
   "outputs": [],
   "source": [
    "import pandas as pd\n",
    "import numpy as np\n",
    "import matplotlib.pyplot as plt\n"
   ]
  },
  {
   "cell_type": "code",
   "execution_count": 73,
   "metadata": {},
   "outputs": [],
   "source": [
    "\n",
    "data = pd.read_csv('S:/varun/hackathon/final.csv')\n"
   ]
  },
  {
   "cell_type": "code",
   "execution_count": 74,
   "metadata": {},
   "outputs": [
    {
     "data": {
      "text/html": [
       "<div>\n",
       "<style scoped>\n",
       "    .dataframe tbody tr th:only-of-type {\n",
       "        vertical-align: middle;\n",
       "    }\n",
       "\n",
       "    .dataframe tbody tr th {\n",
       "        vertical-align: top;\n",
       "    }\n",
       "\n",
       "    .dataframe thead th {\n",
       "        text-align: right;\n",
       "    }\n",
       "</style>\n",
       "<table border=\"1\" class=\"dataframe\">\n",
       "  <thead>\n",
       "    <tr style=\"text-align: right;\">\n",
       "      <th></th>\n",
       "      <th>Year</th>\n",
       "      <th>Land(%)</th>\n",
       "      <th>Rice prod</th>\n",
       "      <th>wheat prod</th>\n",
       "      <th>Rice imp</th>\n",
       "      <th>wheat imp</th>\n",
       "      <th>cereal prod</th>\n",
       "      <th>people drinking water</th>\n",
       "      <th>Undernourishment</th>\n",
       "      <th>Stocks(MT)</th>\n",
       "      <th>...</th>\n",
       "      <th>Food bal(rice)</th>\n",
       "      <th>Food bal(wheat)</th>\n",
       "      <th>Food bal(cereals)</th>\n",
       "      <th>Food bal(pulses)</th>\n",
       "      <th>PCI GDP(Rs)</th>\n",
       "      <th>Stocks(MT).1</th>\n",
       "      <th>MSP(wheat)</th>\n",
       "      <th>MSP(Paddy)</th>\n",
       "      <th>Wheat(imp)</th>\n",
       "      <th>per cap food supply var</th>\n",
       "    </tr>\n",
       "  </thead>\n",
       "  <tbody>\n",
       "    <tr>\n",
       "      <th>0</th>\n",
       "      <td>2001</td>\n",
       "      <td>60.704832</td>\n",
       "      <td>139900000</td>\n",
       "      <td>69680896</td>\n",
       "      <td>63</td>\n",
       "      <td>1351.0</td>\n",
       "      <td>242963796</td>\n",
       "      <td>80.9</td>\n",
       "      <td>19.4</td>\n",
       "      <td>414.57</td>\n",
       "      <td>...</td>\n",
       "      <td>74648926.41</td>\n",
       "      <td>65904575.57</td>\n",
       "      <td>215</td>\n",
       "      <td>7857088.01</td>\n",
       "      <td>23095</td>\n",
       "      <td>414.57</td>\n",
       "      <td>620</td>\n",
       "      <td>530</td>\n",
       "      <td>1351.0</td>\n",
       "      <td>20</td>\n",
       "    </tr>\n",
       "    <tr>\n",
       "      <th>1</th>\n",
       "      <td>2002</td>\n",
       "      <td>60.729385</td>\n",
       "      <td>107730304</td>\n",
       "      <td>72766304</td>\n",
       "      <td>872</td>\n",
       "      <td>39150.0</td>\n",
       "      <td>206636708</td>\n",
       "      <td>81.4</td>\n",
       "      <td>21.0</td>\n",
       "      <td>414.57</td>\n",
       "      <td>...</td>\n",
       "      <td>74278224.97</td>\n",
       "      <td>66781235.11</td>\n",
       "      <td>962</td>\n",
       "      <td>8841138.75</td>\n",
       "      <td>23607</td>\n",
       "      <td>414.57</td>\n",
       "      <td>620</td>\n",
       "      <td>530</td>\n",
       "      <td>39150.0</td>\n",
       "      <td>23</td>\n",
       "    </tr>\n",
       "    <tr>\n",
       "      <th>2</th>\n",
       "      <td>2003</td>\n",
       "      <td>60.624783</td>\n",
       "      <td>132789000</td>\n",
       "      <td>65760800</td>\n",
       "      <td>339</td>\n",
       "      <td>35097.0</td>\n",
       "      <td>236592700</td>\n",
       "      <td>81.9</td>\n",
       "      <td>22.2</td>\n",
       "      <td>414.57</td>\n",
       "      <td>...</td>\n",
       "      <td>74285575.40</td>\n",
       "      <td>64001624.10</td>\n",
       "      <td>598</td>\n",
       "      <td>6981938.97</td>\n",
       "      <td>25116</td>\n",
       "      <td>414.57</td>\n",
       "      <td>630</td>\n",
       "      <td>550</td>\n",
       "      <td>35097.0</td>\n",
       "      <td>43</td>\n",
       "    </tr>\n",
       "    <tr>\n",
       "      <th>3</th>\n",
       "      <td>2004</td>\n",
       "      <td>60.667162</td>\n",
       "      <td>124697104</td>\n",
       "      <td>72156200</td>\n",
       "      <td>0</td>\n",
       "      <td>101075.0</td>\n",
       "      <td>229845504</td>\n",
       "      <td>82.4</td>\n",
       "      <td>22.8</td>\n",
       "      <td>414.57</td>\n",
       "      <td>...</td>\n",
       "      <td>77792821.64</td>\n",
       "      <td>64343903.28</td>\n",
       "      <td>249</td>\n",
       "      <td>8436716.54</td>\n",
       "      <td>26629</td>\n",
       "      <td>414.57</td>\n",
       "      <td>640</td>\n",
       "      <td>560</td>\n",
       "      <td>101075.0</td>\n",
       "      <td>51</td>\n",
       "    </tr>\n",
       "    <tr>\n",
       "      <th>4</th>\n",
       "      <td>2005</td>\n",
       "      <td>60.583414</td>\n",
       "      <td>137690096</td>\n",
       "      <td>68636896</td>\n",
       "      <td>256</td>\n",
       "      <td>37760.0</td>\n",
       "      <td>239997492</td>\n",
       "      <td>82.9</td>\n",
       "      <td>22.2</td>\n",
       "      <td>214.56</td>\n",
       "      <td>...</td>\n",
       "      <td>80671503.01</td>\n",
       "      <td>62211281.70</td>\n",
       "      <td>250</td>\n",
       "      <td>8058968.63</td>\n",
       "      <td>28639</td>\n",
       "      <td>214.56</td>\n",
       "      <td>700</td>\n",
       "      <td>570</td>\n",
       "      <td>37760.0</td>\n",
       "      <td>49</td>\n",
       "    </tr>\n",
       "  </tbody>\n",
       "</table>\n",
       "<p>5 rows × 27 columns</p>\n",
       "</div>"
      ],
      "text/plain": [
       "   Year    Land(%)  Rice prod  wheat prod  Rice imp  wheat imp  cereal prod  \\\n",
       "0  2001  60.704832  139900000    69680896        63     1351.0    242963796   \n",
       "1  2002  60.729385  107730304    72766304       872    39150.0    206636708   \n",
       "2  2003  60.624783  132789000    65760800       339    35097.0    236592700   \n",
       "3  2004  60.667162  124697104    72156200         0   101075.0    229845504   \n",
       "4  2005  60.583414  137690096    68636896       256    37760.0    239997492   \n",
       "\n",
       "   people drinking water  Undernourishment  Stocks(MT)  ...  Food bal(rice)  \\\n",
       "0                   80.9              19.4      414.57  ...     74648926.41   \n",
       "1                   81.4              21.0      414.57  ...     74278224.97   \n",
       "2                   81.9              22.2      414.57  ...     74285575.40   \n",
       "3                   82.4              22.8      414.57  ...     77792821.64   \n",
       "4                   82.9              22.2      214.56  ...     80671503.01   \n",
       "\n",
       "   Food bal(wheat)  Food bal(cereals)  Food bal(pulses)  PCI GDP(Rs)  \\\n",
       "0      65904575.57                215        7857088.01        23095   \n",
       "1      66781235.11                962        8841138.75        23607   \n",
       "2      64001624.10                598        6981938.97        25116   \n",
       "3      64343903.28                249        8436716.54        26629   \n",
       "4      62211281.70                250        8058968.63        28639   \n",
       "\n",
       "   Stocks(MT).1  MSP(wheat)  MSP(Paddy)  Wheat(imp)  per cap food supply var  \n",
       "0        414.57         620         530      1351.0                       20  \n",
       "1        414.57         620         530     39150.0                       23  \n",
       "2        414.57         630         550     35097.0                       43  \n",
       "3        414.57         640         560    101075.0                       51  \n",
       "4        214.56         700         570     37760.0                       49  \n",
       "\n",
       "[5 rows x 27 columns]"
      ]
     },
     "execution_count": 74,
     "metadata": {},
     "output_type": "execute_result"
    }
   ],
   "source": [
    "\n",
    "data.head()\n"
   ]
  },
  {
   "cell_type": "code",
   "execution_count": 75,
   "metadata": {},
   "outputs": [],
   "source": [
    "\n",
    "drop = ['quality','people drinking water','wheat imp','Undernourishment','Food bal(cereals)','Wheat(imp)','Rice imp','Stocks(MT)','MSP/100Kg(Wheat)','Food bal(rice)','Food bal(wheat)','wheat prod','Pop density']\n",
    "data.drop(drop , inplace = True , axis = 1)        \n"
   ]
  },
  {
   "cell_type": "code",
   "execution_count": 76,
   "metadata": {},
   "outputs": [
    {
     "data": {
      "text/plain": [
       "Year                          False\n",
       "Land(%)                       False\n",
       "Rice prod                     False\n",
       "cereal prod                   False\n",
       "availability(g/capita/day)    False\n",
       "cal per cap                   False\n",
       "Annual rainfall               False\n",
       "per cap food prodn            False\n",
       "Food bal(pulses)              False\n",
       "PCI GDP(Rs)                   False\n",
       "Stocks(MT).1                  False\n",
       "MSP(wheat)                    False\n",
       "MSP(Paddy)                    False\n",
       "per cap food supply var       False\n",
       "dtype: bool"
      ]
     },
     "execution_count": 76,
     "metadata": {},
     "output_type": "execute_result"
    }
   ],
   "source": [
    "\n",
    "data.isnull().any()\n"
   ]
  },
  {
   "cell_type": "code",
   "execution_count": 77,
   "metadata": {},
   "outputs": [
    {
     "data": {
      "text/html": [
       "<div>\n",
       "<style scoped>\n",
       "    .dataframe tbody tr th:only-of-type {\n",
       "        vertical-align: middle;\n",
       "    }\n",
       "\n",
       "    .dataframe tbody tr th {\n",
       "        vertical-align: top;\n",
       "    }\n",
       "\n",
       "    .dataframe thead th {\n",
       "        text-align: right;\n",
       "    }\n",
       "</style>\n",
       "<table border=\"1\" class=\"dataframe\">\n",
       "  <thead>\n",
       "    <tr style=\"text-align: right;\">\n",
       "      <th></th>\n",
       "      <th>Year</th>\n",
       "      <th>Land(%)</th>\n",
       "      <th>Rice prod</th>\n",
       "      <th>cereal prod</th>\n",
       "      <th>availability(g/capita/day)</th>\n",
       "      <th>cal per cap</th>\n",
       "      <th>Annual rainfall</th>\n",
       "      <th>per cap food prodn</th>\n",
       "      <th>Food bal(pulses)</th>\n",
       "      <th>PCI GDP(Rs)</th>\n",
       "      <th>Stocks(MT).1</th>\n",
       "      <th>MSP(wheat)</th>\n",
       "      <th>MSP(Paddy)</th>\n",
       "      <th>per cap food supply var</th>\n",
       "    </tr>\n",
       "  </thead>\n",
       "  <tbody>\n",
       "    <tr>\n",
       "      <th>0</th>\n",
       "      <td>2001</td>\n",
       "      <td>60.704832</td>\n",
       "      <td>139900000</td>\n",
       "      <td>242963796</td>\n",
       "      <td>45</td>\n",
       "      <td>2333</td>\n",
       "      <td>1105.2</td>\n",
       "      <td>1.9</td>\n",
       "      <td>7857088.01</td>\n",
       "      <td>23095</td>\n",
       "      <td>414.57</td>\n",
       "      <td>620</td>\n",
       "      <td>530</td>\n",
       "      <td>20</td>\n",
       "    </tr>\n",
       "    <tr>\n",
       "      <th>1</th>\n",
       "      <td>2002</td>\n",
       "      <td>60.729385</td>\n",
       "      <td>107730304</td>\n",
       "      <td>206636708</td>\n",
       "      <td>45</td>\n",
       "      <td>2285</td>\n",
       "      <td>981.9</td>\n",
       "      <td>1.9</td>\n",
       "      <td>8841138.75</td>\n",
       "      <td>23607</td>\n",
       "      <td>414.57</td>\n",
       "      <td>620</td>\n",
       "      <td>530</td>\n",
       "      <td>23</td>\n",
       "    </tr>\n",
       "    <tr>\n",
       "      <th>2</th>\n",
       "      <td>2003</td>\n",
       "      <td>60.624783</td>\n",
       "      <td>132789000</td>\n",
       "      <td>236592700</td>\n",
       "      <td>45</td>\n",
       "      <td>2282</td>\n",
       "      <td>1243.6</td>\n",
       "      <td>7.3</td>\n",
       "      <td>6981938.97</td>\n",
       "      <td>25116</td>\n",
       "      <td>414.57</td>\n",
       "      <td>630</td>\n",
       "      <td>550</td>\n",
       "      <td>43</td>\n",
       "    </tr>\n",
       "    <tr>\n",
       "      <th>3</th>\n",
       "      <td>2004</td>\n",
       "      <td>60.667162</td>\n",
       "      <td>124697104</td>\n",
       "      <td>229845504</td>\n",
       "      <td>45</td>\n",
       "      <td>2256</td>\n",
       "      <td>1080.5</td>\n",
       "      <td>7.2</td>\n",
       "      <td>8436716.54</td>\n",
       "      <td>26629</td>\n",
       "      <td>414.57</td>\n",
       "      <td>640</td>\n",
       "      <td>560</td>\n",
       "      <td>51</td>\n",
       "    </tr>\n",
       "    <tr>\n",
       "      <th>4</th>\n",
       "      <td>2005</td>\n",
       "      <td>60.583414</td>\n",
       "      <td>137690096</td>\n",
       "      <td>239997492</td>\n",
       "      <td>46</td>\n",
       "      <td>2270</td>\n",
       "      <td>1208.3</td>\n",
       "      <td>6.5</td>\n",
       "      <td>8058968.63</td>\n",
       "      <td>28639</td>\n",
       "      <td>214.56</td>\n",
       "      <td>700</td>\n",
       "      <td>570</td>\n",
       "      <td>49</td>\n",
       "    </tr>\n",
       "    <tr>\n",
       "      <th>5</th>\n",
       "      <td>2006</td>\n",
       "      <td>60.509419</td>\n",
       "      <td>139136992</td>\n",
       "      <td>242785588</td>\n",
       "      <td>47</td>\n",
       "      <td>2334</td>\n",
       "      <td>1161.6</td>\n",
       "      <td>5.9</td>\n",
       "      <td>8488563.06</td>\n",
       "      <td>30805</td>\n",
       "      <td>184.09</td>\n",
       "      <td>850</td>\n",
       "      <td>620</td>\n",
       "      <td>30</td>\n",
       "    </tr>\n",
       "    <tr>\n",
       "      <th>6</th>\n",
       "      <td>2007</td>\n",
       "      <td>60.413226</td>\n",
       "      <td>144570000</td>\n",
       "      <td>260485904</td>\n",
       "      <td>49</td>\n",
       "      <td>2400</td>\n",
       "      <td>1179.3</td>\n",
       "      <td>4.6</td>\n",
       "      <td>8960576.75</td>\n",
       "      <td>33446</td>\n",
       "      <td>200.40</td>\n",
       "      <td>1000</td>\n",
       "      <td>745</td>\n",
       "      <td>25</td>\n",
       "    </tr>\n",
       "    <tr>\n",
       "      <th>7</th>\n",
       "      <td>2008</td>\n",
       "      <td>60.459305</td>\n",
       "      <td>148036000</td>\n",
       "      <td>266835300</td>\n",
       "      <td>49</td>\n",
       "      <td>2427</td>\n",
       "      <td>1118.0</td>\n",
       "      <td>5.9</td>\n",
       "      <td>9093246.75</td>\n",
       "      <td>33987</td>\n",
       "      <td>293.19</td>\n",
       "      <td>1080</td>\n",
       "      <td>900</td>\n",
       "      <td>48</td>\n",
       "    </tr>\n",
       "    <tr>\n",
       "      <th>8</th>\n",
       "      <td>2009</td>\n",
       "      <td>60.563906</td>\n",
       "      <td>135672992</td>\n",
       "      <td>250783392</td>\n",
       "      <td>50</td>\n",
       "      <td>2415</td>\n",
       "      <td>953.7</td>\n",
       "      <td>6.9</td>\n",
       "      <td>9906155.50</td>\n",
       "      <td>36249</td>\n",
       "      <td>544.40</td>\n",
       "      <td>1100</td>\n",
       "      <td>1000</td>\n",
       "      <td>60</td>\n",
       "    </tr>\n",
       "    <tr>\n",
       "      <th>9</th>\n",
       "      <td>2010</td>\n",
       "      <td>60.397418</td>\n",
       "      <td>143963008</td>\n",
       "      <td>267838308</td>\n",
       "      <td>51</td>\n",
       "      <td>2442</td>\n",
       "      <td>1215.5</td>\n",
       "      <td>5.6</td>\n",
       "      <td>9800336.30</td>\n",
       "      <td>39270</td>\n",
       "      <td>515.60</td>\n",
       "      <td>1170</td>\n",
       "      <td>1000</td>\n",
       "      <td>49</td>\n",
       "    </tr>\n",
       "    <tr>\n",
       "      <th>10</th>\n",
       "      <td>2011</td>\n",
       "      <td>60.430043</td>\n",
       "      <td>157900000</td>\n",
       "      <td>287860000</td>\n",
       "      <td>52</td>\n",
       "      <td>2455</td>\n",
       "      <td>1116.3</td>\n",
       "      <td>4.5</td>\n",
       "      <td>10906626.26</td>\n",
       "      <td>41255</td>\n",
       "      <td>544.90</td>\n",
       "      <td>1285</td>\n",
       "      <td>1080</td>\n",
       "      <td>25</td>\n",
       "    </tr>\n",
       "    <tr>\n",
       "      <th>11</th>\n",
       "      <td>2012</td>\n",
       "      <td>60.420626</td>\n",
       "      <td>157800000</td>\n",
       "      <td>293290000</td>\n",
       "      <td>52</td>\n",
       "      <td>2435</td>\n",
       "      <td>1054.7</td>\n",
       "      <td>4.5</td>\n",
       "      <td>8848304.61</td>\n",
       "      <td>64316</td>\n",
       "      <td>671.10</td>\n",
       "      <td>1350</td>\n",
       "      <td>1250</td>\n",
       "      <td>14</td>\n",
       "    </tr>\n",
       "    <tr>\n",
       "      <th>12</th>\n",
       "      <td>2013</td>\n",
       "      <td>60.439461</td>\n",
       "      <td>159200000</td>\n",
       "      <td>294909510</td>\n",
       "      <td>52</td>\n",
       "      <td>2459</td>\n",
       "      <td>1092.5</td>\n",
       "      <td>4.4</td>\n",
       "      <td>9123247.55</td>\n",
       "      <td>71593</td>\n",
       "      <td>559.40</td>\n",
       "      <td>1400</td>\n",
       "      <td>1310</td>\n",
       "      <td>31</td>\n",
       "    </tr>\n",
       "    <tr>\n",
       "      <th>13</th>\n",
       "      <td>2014</td>\n",
       "      <td>60.447196</td>\n",
       "      <td>157200000</td>\n",
       "      <td>296010000</td>\n",
       "      <td>52</td>\n",
       "      <td>2445</td>\n",
       "      <td>1045.2</td>\n",
       "      <td>4.6</td>\n",
       "      <td>9023872.89</td>\n",
       "      <td>80388</td>\n",
       "      <td>482.99</td>\n",
       "      <td>1450</td>\n",
       "      <td>1360</td>\n",
       "      <td>34</td>\n",
       "    </tr>\n",
       "    <tr>\n",
       "      <th>14</th>\n",
       "      <td>2015</td>\n",
       "      <td>60.447196</td>\n",
       "      <td>156540000</td>\n",
       "      <td>284333000</td>\n",
       "      <td>52</td>\n",
       "      <td>2450</td>\n",
       "      <td>1085.0</td>\n",
       "      <td>1.7</td>\n",
       "      <td>8933232.77</td>\n",
       "      <td>87748</td>\n",
       "      <td>439.80</td>\n",
       "      <td>1485</td>\n",
       "      <td>1410</td>\n",
       "      <td>18</td>\n",
       "    </tr>\n",
       "  </tbody>\n",
       "</table>\n",
       "</div>"
      ],
      "text/plain": [
       "    Year    Land(%)  Rice prod  cereal prod  availability(g/capita/day)  \\\n",
       "0   2001  60.704832  139900000    242963796                          45   \n",
       "1   2002  60.729385  107730304    206636708                          45   \n",
       "2   2003  60.624783  132789000    236592700                          45   \n",
       "3   2004  60.667162  124697104    229845504                          45   \n",
       "4   2005  60.583414  137690096    239997492                          46   \n",
       "5   2006  60.509419  139136992    242785588                          47   \n",
       "6   2007  60.413226  144570000    260485904                          49   \n",
       "7   2008  60.459305  148036000    266835300                          49   \n",
       "8   2009  60.563906  135672992    250783392                          50   \n",
       "9   2010  60.397418  143963008    267838308                          51   \n",
       "10  2011  60.430043  157900000    287860000                          52   \n",
       "11  2012  60.420626  157800000    293290000                          52   \n",
       "12  2013  60.439461  159200000    294909510                          52   \n",
       "13  2014  60.447196  157200000    296010000                          52   \n",
       "14  2015  60.447196  156540000    284333000                          52   \n",
       "\n",
       "    cal per cap  Annual rainfall  per cap food prodn  Food bal(pulses)  \\\n",
       "0          2333           1105.2                 1.9        7857088.01   \n",
       "1          2285            981.9                 1.9        8841138.75   \n",
       "2          2282           1243.6                 7.3        6981938.97   \n",
       "3          2256           1080.5                 7.2        8436716.54   \n",
       "4          2270           1208.3                 6.5        8058968.63   \n",
       "5          2334           1161.6                 5.9        8488563.06   \n",
       "6          2400           1179.3                 4.6        8960576.75   \n",
       "7          2427           1118.0                 5.9        9093246.75   \n",
       "8          2415            953.7                 6.9        9906155.50   \n",
       "9          2442           1215.5                 5.6        9800336.30   \n",
       "10         2455           1116.3                 4.5       10906626.26   \n",
       "11         2435           1054.7                 4.5        8848304.61   \n",
       "12         2459           1092.5                 4.4        9123247.55   \n",
       "13         2445           1045.2                 4.6        9023872.89   \n",
       "14         2450           1085.0                 1.7        8933232.77   \n",
       "\n",
       "    PCI GDP(Rs)  Stocks(MT).1  MSP(wheat)  MSP(Paddy)  per cap food supply var  \n",
       "0         23095        414.57         620         530                       20  \n",
       "1         23607        414.57         620         530                       23  \n",
       "2         25116        414.57         630         550                       43  \n",
       "3         26629        414.57         640         560                       51  \n",
       "4         28639        214.56         700         570                       49  \n",
       "5         30805        184.09         850         620                       30  \n",
       "6         33446        200.40        1000         745                       25  \n",
       "7         33987        293.19        1080         900                       48  \n",
       "8         36249        544.40        1100        1000                       60  \n",
       "9         39270        515.60        1170        1000                       49  \n",
       "10        41255        544.90        1285        1080                       25  \n",
       "11        64316        671.10        1350        1250                       14  \n",
       "12        71593        559.40        1400        1310                       31  \n",
       "13        80388        482.99        1450        1360                       34  \n",
       "14        87748        439.80        1485        1410                       18  "
      ]
     },
     "execution_count": 77,
     "metadata": {},
     "output_type": "execute_result"
    }
   ],
   "source": [
    "data\n"
   ]
  },
  {
   "cell_type": "code",
   "execution_count": 79,
   "metadata": {},
   "outputs": [],
   "source": [
    "\n",
    "x = data.iloc[:,0:13].values\n",
    "y = data.iloc[:,13].values\n"
   ]
  },
  {
   "cell_type": "code",
   "execution_count": 80,
   "metadata": {},
   "outputs": [],
   "source": [
    "\n",
    "from sklearn.model_selection import train_test_split\n",
    "x_train, x_test, y_train, y_test = train_test_split(x, y, test_size = 0.25, random_state = 0)\n"
   ]
  },
  {
   "cell_type": "code",
   "execution_count": 81,
   "metadata": {},
   "outputs": [
    {
     "data": {
      "text/plain": [
       "LinearRegression(copy_X=True, fit_intercept=True, n_jobs=None,\n",
       "         normalize=False)"
      ]
     },
     "execution_count": 81,
     "metadata": {},
     "output_type": "execute_result"
    }
   ],
   "source": [
    "\n",
    "from sklearn.linear_model import LinearRegression\n",
    "regressor = LinearRegression()\n",
    "regressor.fit(x_train, y_train)"
   ]
  },
  {
   "cell_type": "code",
   "execution_count": 82,
   "metadata": {},
   "outputs": [],
   "source": [
    "\n",
    "ypred =regressor.predict(x_test)"
   ]
  },
  {
   "cell_type": "code",
   "execution_count": 83,
   "metadata": {},
   "outputs": [
    {
     "data": {
      "text/plain": [
       "(4, 13)"
      ]
     },
     "execution_count": 83,
     "metadata": {},
     "output_type": "execute_result"
    }
   ],
   "source": [
    "\n",
    "x_test.shape"
   ]
  },
  {
   "cell_type": "code",
   "execution_count": 84,
   "metadata": {},
   "outputs": [
    {
     "data": {
      "text/plain": [
       "array([20.10377974, 26.95382704, 54.56364526, 36.81937596])"
      ]
     },
     "execution_count": 84,
     "metadata": {},
     "output_type": "execute_result"
    }
   ],
   "source": [
    "\n",
    "ypred"
   ]
  },
  {
   "cell_type": "code",
   "execution_count": 89,
   "metadata": {},
   "outputs": [],
   "source": [
    "\n",
    "ypred1 = regressor.predict([[2000,60.70483218,139900000,242963796,45,2333,1105.2,1.9,7857088.01,23095,414.57,620,530]])\n"
   ]
  },
  {
   "cell_type": "code",
   "execution_count": 91,
   "metadata": {},
   "outputs": [
    {
     "name": "stdout",
     "output_type": "stream",
     "text": [
      "[17.94816318]\n"
     ]
    }
   ],
   "source": [
    "\n",
    "print(ypred1)\n"
   ]
  },
  {
   "cell_type": "code",
   "execution_count": 90,
   "metadata": {},
   "outputs": [
    {
     "data": {
      "text/plain": [
       "0.8084844252767391"
      ]
     },
     "execution_count": 90,
     "metadata": {},
     "output_type": "execute_result"
    }
   ],
   "source": [
    "\n",
    "from sklearn.metrics import r2_score\n",
    "r2_score(y_test,ypred)"
   ]
  },
  {
   "cell_type": "code",
   "execution_count": 86,
   "metadata": {},
   "outputs": [],
   "source": [
    "import seaborn as sns"
   ]
  },
  {
   "cell_type": "code",
   "execution_count": 87,
   "metadata": {},
   "outputs": [
    {
     "data": {
      "text/plain": [
       "<matplotlib.axes._subplots.AxesSubplot at 0x1fd527ca2b0>"
      ]
     },
     "execution_count": 87,
     "metadata": {},
     "output_type": "execute_result"
    },
    {
     "data": {
      "image/png": "[encoded data removed]",
      "text/plain": [
       "<Figure size 432x288 with 2 Axes>"
      ]
     },
     "metadata": {
      "needs_background": "light"
     },
     "output_type": "display_data"
    }
   ],
   "source": [
    "sns.heatmap(data.corr())"
   ]
  },
  {
   "cell_type": "code",
   "execution_count": 88,
   "metadata": {},
   "outputs": [
    {
     "data": {
      "text/plain": [
       "<matplotlib.axes._subplots.AxesSubplot at 0x1fd52869748>"
      ]
     },
     "execution_count": 88,
     "metadata": {},
     "output_type": "execute_result"
    },
    {
     "data": {
      "image/png": "[encoded data removed]",
      "text/plain": [
       "<Figure size 432x288 with 2 Axes>"
      ]
     },
     "metadata": {
      "needs_background": "light"
     },
     "output_type": "display_data"
    }
   ],
   "source": [
    "sns.heatmap(data.corr(),annot = True)"
   ]
  },
  {
   "cell_type": "code",
   "execution_count": null,
   "metadata": {},
   "outputs": [],
   "source": []
  }
 ],
 "metadata": {
  "kernelspec": {
   "display_name": "Python 3",
   "language": "python",
   "name": "python3"
  },
  "language_info": {
   "codemirror_mode": {
    "name": "ipython",
    "version": 3
   },
   "file_extension": ".py",
   "mimetype": "text/x-python",
   "name": "python",
   "nbconvert_exporter": "python",
   "pygments_lexer": "ipython3",
   "version": "3.7.3"
  }
 },
 "nbformat": 4,
 "nbformat_minor": 2
}
