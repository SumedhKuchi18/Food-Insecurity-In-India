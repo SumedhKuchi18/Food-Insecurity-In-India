{
 "cells": [
  {
   "cell_type": "code",
   "execution_count": 1,
   "metadata": {},
   "outputs": [],
   "source": [
    "import pandas as pd\n",
    "import numpy as np\n",
    "import matplotlib.pyplot as plt\n"
   ]
  },
  {
   "cell_type": "code",
   "execution_count": 2,
   "metadata": {},
   "outputs": [
    {
     "data": {
      "text/html": [
       "<div>\n",
       "<style scoped>\n",
       "    .dataframe tbody tr th:only-of-type {\n",
       "        vertical-align: middle;\n",
       "    }\n",
       "\n",
       "    .dataframe tbody tr th {\n",
       "        vertical-align: top;\n",
       "    }\n",
       "\n",
       "    .dataframe thead th {\n",
       "        text-align: right;\n",
       "    }\n",
       "</style>\n",
       "<table border=\"1\" class=\"dataframe\">\n",
       "  <thead>\n",
       "    <tr style=\"text-align: right;\">\n",
       "      <th></th>\n",
       "      <th>Year</th>\n",
       "      <th>Land(%)</th>\n",
       "      <th>Rice prod</th>\n",
       "      <th>wheat prod</th>\n",
       "      <th>Rice imp</th>\n",
       "      <th>wheat imp</th>\n",
       "      <th>cereal prod</th>\n",
       "      <th>people drinking water</th>\n",
       "      <th>Undernourishment</th>\n",
       "      <th>Stocks(MT)</th>\n",
       "      <th>Pop density</th>\n",
       "      <th>availability(g/capita/day)</th>\n",
       "      <th>quality</th>\n",
       "      <th>cal per cap</th>\n",
       "      <th>MSP/100Kg(Wheat)</th>\n",
       "      <th>Annual rainfall</th>\n",
       "    </tr>\n",
       "  </thead>\n",
       "  <tbody>\n",
       "    <tr>\n",
       "      <th>0</th>\n",
       "      <td>2001</td>\n",
       "      <td>60.704832</td>\n",
       "      <td>139900000</td>\n",
       "      <td>69680896</td>\n",
       "      <td>63</td>\n",
       "      <td>1351.0</td>\n",
       "      <td>242963796</td>\n",
       "      <td>80.9</td>\n",
       "      <td>19.4</td>\n",
       "      <td>414.57</td>\n",
       "      <td>360.379880</td>\n",
       "      <td>45</td>\n",
       "      <td>NaN</td>\n",
       "      <td>2333</td>\n",
       "      <td>620</td>\n",
       "      <td>1105.2</td>\n",
       "    </tr>\n",
       "    <tr>\n",
       "      <th>1</th>\n",
       "      <td>2002</td>\n",
       "      <td>60.729385</td>\n",
       "      <td>107730304</td>\n",
       "      <td>72766304</td>\n",
       "      <td>872</td>\n",
       "      <td>39150.0</td>\n",
       "      <td>206636708</td>\n",
       "      <td>81.4</td>\n",
       "      <td>21.0</td>\n",
       "      <td>414.57</td>\n",
       "      <td>366.544725</td>\n",
       "      <td>45</td>\n",
       "      <td>NaN</td>\n",
       "      <td>2285</td>\n",
       "      <td>620</td>\n",
       "      <td>981.9</td>\n",
       "    </tr>\n",
       "    <tr>\n",
       "      <th>2</th>\n",
       "      <td>2003</td>\n",
       "      <td>60.624783</td>\n",
       "      <td>132789000</td>\n",
       "      <td>65760800</td>\n",
       "      <td>339</td>\n",
       "      <td>35097.0</td>\n",
       "      <td>236592700</td>\n",
       "      <td>81.9</td>\n",
       "      <td>22.2</td>\n",
       "      <td>414.57</td>\n",
       "      <td>372.673071</td>\n",
       "      <td>45</td>\n",
       "      <td>NaN</td>\n",
       "      <td>2282</td>\n",
       "      <td>630</td>\n",
       "      <td>1243.6</td>\n",
       "    </tr>\n",
       "    <tr>\n",
       "      <th>3</th>\n",
       "      <td>2004</td>\n",
       "      <td>60.667162</td>\n",
       "      <td>124697104</td>\n",
       "      <td>72156200</td>\n",
       "      <td>0</td>\n",
       "      <td>101075.0</td>\n",
       "      <td>229845504</td>\n",
       "      <td>82.4</td>\n",
       "      <td>22.8</td>\n",
       "      <td>414.57</td>\n",
       "      <td>378.763475</td>\n",
       "      <td>45</td>\n",
       "      <td>NaN</td>\n",
       "      <td>2256</td>\n",
       "      <td>640</td>\n",
       "      <td>1080.5</td>\n",
       "    </tr>\n",
       "    <tr>\n",
       "      <th>4</th>\n",
       "      <td>2005</td>\n",
       "      <td>60.583414</td>\n",
       "      <td>137690096</td>\n",
       "      <td>68636896</td>\n",
       "      <td>256</td>\n",
       "      <td>37760.0</td>\n",
       "      <td>239997492</td>\n",
       "      <td>82.9</td>\n",
       "      <td>22.2</td>\n",
       "      <td>214.56</td>\n",
       "      <td>384.811826</td>\n",
       "      <td>46</td>\n",
       "      <td>NaN</td>\n",
       "      <td>2270</td>\n",
       "      <td>700</td>\n",
       "      <td>1208.3</td>\n",
       "    </tr>\n",
       "  </tbody>\n",
       "</table>\n",
       "</div>"
      ],
      "text/plain": [
       "   Year    Land(%)  Rice prod  wheat prod  Rice imp  wheat imp  cereal prod  \\\n",
       "0  2001  60.704832  139900000    69680896        63     1351.0    242963796   \n",
       "1  2002  60.729385  107730304    72766304       872    39150.0    206636708   \n",
       "2  2003  60.624783  132789000    65760800       339    35097.0    236592700   \n",
       "3  2004  60.667162  124697104    72156200         0   101075.0    229845504   \n",
       "4  2005  60.583414  137690096    68636896       256    37760.0    239997492   \n",
       "\n",
       "   people drinking water  Undernourishment  Stocks(MT)  Pop density  \\\n",
       "0                   80.9              19.4      414.57   360.379880   \n",
       "1                   81.4              21.0      414.57   366.544725   \n",
       "2                   81.9              22.2      414.57   372.673071   \n",
       "3                   82.4              22.8      414.57   378.763475   \n",
       "4                   82.9              22.2      214.56   384.811826   \n",
       "\n",
       "   availability(g/capita/day)  quality  cal per cap  MSP/100Kg(Wheat)  \\\n",
       "0                          45      NaN         2333               620   \n",
       "1                          45      NaN         2285               620   \n",
       "2                          45      NaN         2282               630   \n",
       "3                          45      NaN         2256               640   \n",
       "4                          46      NaN         2270               700   \n",
       "\n",
       "   Annual rainfall  \n",
       "0           1105.2  \n",
       "1            981.9  \n",
       "2           1243.6  \n",
       "3           1080.5  \n",
       "4           1208.3  "
      ]
     },
     "execution_count": 2,
     "metadata": {},
     "output_type": "execute_result"
    }
   ],
   "source": [
    "\n",
    "import types\n",
    "import pandas as pd\n",
    "from botocore.client import Config\n",
    "import ibm_boto3\n",
    "\n",
    "def __iter__(self): return 0\n",
    "\n",
    "# @hidden_cell\n",
    "# The following code accesses a file in your IBM Cloud Object Storage. It includes your credentials.\n",
    "# You might want to remove those credentials before you share your notebook.\n",
    "client_039b58be4c9b4d838bc53e28f04576ff = ibm_boto3.client(service_name='s3',\n",
    "    ibm_api_key_id='5aTNWzG2Xj0Z9BWVT9o5bGankSHfW0IMZmn1nQRsGUPS',\n",
    "    ibm_auth_endpoint=\"https://iam.bluemix.net/oidc/token\",\n",
    "    config=Config(signature_version='oauth'),\n",
    "    endpoint_url='https://s3.eu-geo.objectstorage.service.networklayer.com')\n",
    "\n",
    "body = client_039b58be4c9b4d838bc53e28f04576ff.get_object(Bucket='analysisforfoodinsecurityinindia-donotdelete-pr-23eqkxd5ldlky7',Key='avail.csv')['Body']\n",
    "# add missing __iter__ method, so pandas accepts body as file-like object\n",
    "if not hasattr(body, \"__iter__\"): body.__iter__ = types.MethodType( __iter__, body )\n",
    "\n",
    "data= pd.read_csv(body)\n",
    "data.head()\n",
    "\n"
   ]
  },
  {
   "cell_type": "code",
   "execution_count": 3,
   "metadata": {},
   "outputs": [],
   "source": [
    "\n",
    "drop = ['quality','cal per cap','MSP/100Kg(Wheat)','Annual rainfall','people drinking water','wheat imp']\n",
    "data.drop(drop , inplace = True , axis = 1)        \n"
   ]
  },
  {
   "cell_type": "code",
   "execution_count": 4,
   "metadata": {},
   "outputs": [
    {
     "data": {
      "text/plain": [
       "Year                          False\n",
       "Land(%)                       False\n",
       "Rice prod                     False\n",
       "wheat prod                    False\n",
       "Rice imp                      False\n",
       "cereal prod                   False\n",
       "Undernourishment              False\n",
       "Stocks(MT)                    False\n",
       "Pop density                   False\n",
       "availability(g/capita/day)    False\n",
       "dtype: bool"
      ]
     },
     "execution_count": 4,
     "metadata": {},
     "output_type": "execute_result"
    }
   ],
   "source": [
    "\n",
    "data.isnull().any()\n"
   ]
  },
  {
   "cell_type": "code",
   "execution_count": 5,
   "metadata": {},
   "outputs": [],
   "source": [
    "data.fillna(data.mean(),inplace = True)"
   ]
  },
  {
   "cell_type": "code",
   "execution_count": 6,
   "metadata": {},
   "outputs": [
    {
     "data": {
      "text/plain": [
       "Year                          False\n",
       "Land(%)                       False\n",
       "Rice prod                     False\n",
       "wheat prod                    False\n",
       "Rice imp                      False\n",
       "cereal prod                   False\n",
       "Undernourishment              False\n",
       "Stocks(MT)                    False\n",
       "Pop density                   False\n",
       "availability(g/capita/day)    False\n",
       "dtype: bool"
      ]
     },
     "execution_count": 6,
     "metadata": {},
     "output_type": "execute_result"
    }
   ],
   "source": [
    "\n",
    "data.isnull().any()\n"
   ]
  },
  {
   "cell_type": "code",
   "execution_count": 7,
   "metadata": {},
   "outputs": [
    {
     "data": {
      "text/html": [
       "<div>\n",
       "<style scoped>\n",
       "    .dataframe tbody tr th:only-of-type {\n",
       "        vertical-align: middle;\n",
       "    }\n",
       "\n",
       "    .dataframe tbody tr th {\n",
       "        vertical-align: top;\n",
       "    }\n",
       "\n",
       "    .dataframe thead th {\n",
       "        text-align: right;\n",
       "    }\n",
       "</style>\n",
       "<table border=\"1\" class=\"dataframe\">\n",
       "  <thead>\n",
       "    <tr style=\"text-align: right;\">\n",
       "      <th></th>\n",
       "      <th>Year</th>\n",
       "      <th>Land(%)</th>\n",
       "      <th>Rice prod</th>\n",
       "      <th>wheat prod</th>\n",
       "      <th>Rice imp</th>\n",
       "      <th>cereal prod</th>\n",
       "      <th>Undernourishment</th>\n",
       "      <th>Stocks(MT)</th>\n",
       "      <th>Pop density</th>\n",
       "      <th>availability(g/capita/day)</th>\n",
       "    </tr>\n",
       "  </thead>\n",
       "  <tbody>\n",
       "    <tr>\n",
       "      <th>0</th>\n",
       "      <td>2001</td>\n",
       "      <td>60.704832</td>\n",
       "      <td>139900000</td>\n",
       "      <td>69680896</td>\n",
       "      <td>63</td>\n",
       "      <td>242963796</td>\n",
       "      <td>19.4</td>\n",
       "      <td>414.57</td>\n",
       "      <td>360.379880</td>\n",
       "      <td>45</td>\n",
       "    </tr>\n",
       "    <tr>\n",
       "      <th>1</th>\n",
       "      <td>2002</td>\n",
       "      <td>60.729385</td>\n",
       "      <td>107730304</td>\n",
       "      <td>72766304</td>\n",
       "      <td>872</td>\n",
       "      <td>206636708</td>\n",
       "      <td>21.0</td>\n",
       "      <td>414.57</td>\n",
       "      <td>366.544725</td>\n",
       "      <td>45</td>\n",
       "    </tr>\n",
       "    <tr>\n",
       "      <th>2</th>\n",
       "      <td>2003</td>\n",
       "      <td>60.624783</td>\n",
       "      <td>132789000</td>\n",
       "      <td>65760800</td>\n",
       "      <td>339</td>\n",
       "      <td>236592700</td>\n",
       "      <td>22.2</td>\n",
       "      <td>414.57</td>\n",
       "      <td>372.673071</td>\n",
       "      <td>45</td>\n",
       "    </tr>\n",
       "    <tr>\n",
       "      <th>3</th>\n",
       "      <td>2004</td>\n",
       "      <td>60.667162</td>\n",
       "      <td>124697104</td>\n",
       "      <td>72156200</td>\n",
       "      <td>0</td>\n",
       "      <td>229845504</td>\n",
       "      <td>22.8</td>\n",
       "      <td>414.57</td>\n",
       "      <td>378.763475</td>\n",
       "      <td>45</td>\n",
       "    </tr>\n",
       "    <tr>\n",
       "      <th>4</th>\n",
       "      <td>2005</td>\n",
       "      <td>60.583414</td>\n",
       "      <td>137690096</td>\n",
       "      <td>68636896</td>\n",
       "      <td>256</td>\n",
       "      <td>239997492</td>\n",
       "      <td>22.2</td>\n",
       "      <td>214.56</td>\n",
       "      <td>384.811826</td>\n",
       "      <td>46</td>\n",
       "    </tr>\n",
       "    <tr>\n",
       "      <th>5</th>\n",
       "      <td>2006</td>\n",
       "      <td>60.509419</td>\n",
       "      <td>139136992</td>\n",
       "      <td>69354496</td>\n",
       "      <td>162</td>\n",
       "      <td>242785588</td>\n",
       "      <td>20.7</td>\n",
       "      <td>184.09</td>\n",
       "      <td>390.818521</td>\n",
       "      <td>47</td>\n",
       "    </tr>\n",
       "    <tr>\n",
       "      <th>6</th>\n",
       "      <td>2007</td>\n",
       "      <td>60.413226</td>\n",
       "      <td>144570000</td>\n",
       "      <td>75806704</td>\n",
       "      <td>145</td>\n",
       "      <td>260485904</td>\n",
       "      <td>19.2</td>\n",
       "      <td>200.40</td>\n",
       "      <td>396.772907</td>\n",
       "      <td>49</td>\n",
       "    </tr>\n",
       "    <tr>\n",
       "      <th>7</th>\n",
       "      <td>2008</td>\n",
       "      <td>60.459305</td>\n",
       "      <td>148036000</td>\n",
       "      <td>78570200</td>\n",
       "      <td>85</td>\n",
       "      <td>266835300</td>\n",
       "      <td>18.1</td>\n",
       "      <td>293.19</td>\n",
       "      <td>402.647293</td>\n",
       "      <td>49</td>\n",
       "    </tr>\n",
       "    <tr>\n",
       "      <th>8</th>\n",
       "      <td>2009</td>\n",
       "      <td>60.563906</td>\n",
       "      <td>135672992</td>\n",
       "      <td>80679400</td>\n",
       "      <td>66</td>\n",
       "      <td>250783392</td>\n",
       "      <td>17.7</td>\n",
       "      <td>454.40</td>\n",
       "      <td>408.406504</td>\n",
       "      <td>50</td>\n",
       "    </tr>\n",
       "    <tr>\n",
       "      <th>9</th>\n",
       "      <td>2010</td>\n",
       "      <td>60.397418</td>\n",
       "      <td>143963008</td>\n",
       "      <td>80803600</td>\n",
       "      <td>95</td>\n",
       "      <td>267838308</td>\n",
       "      <td>17.5</td>\n",
       "      <td>515.60</td>\n",
       "      <td>414.026918</td>\n",
       "      <td>51</td>\n",
       "    </tr>\n",
       "    <tr>\n",
       "      <th>10</th>\n",
       "      <td>2011</td>\n",
       "      <td>60.430043</td>\n",
       "      <td>157900000</td>\n",
       "      <td>86874000</td>\n",
       "      <td>1093</td>\n",
       "      <td>287860000</td>\n",
       "      <td>17.4</td>\n",
       "      <td>544.90</td>\n",
       "      <td>419.494223</td>\n",
       "      <td>52</td>\n",
       "    </tr>\n",
       "    <tr>\n",
       "      <th>11</th>\n",
       "      <td>2012</td>\n",
       "      <td>60.420626</td>\n",
       "      <td>157800000</td>\n",
       "      <td>94880000</td>\n",
       "      <td>539</td>\n",
       "      <td>293290000</td>\n",
       "      <td>16.7</td>\n",
       "      <td>671.10</td>\n",
       "      <td>424.818411</td>\n",
       "      <td>52</td>\n",
       "    </tr>\n",
       "    <tr>\n",
       "      <th>12</th>\n",
       "      <td>2013</td>\n",
       "      <td>60.439461</td>\n",
       "      <td>159200000</td>\n",
       "      <td>93510000</td>\n",
       "      <td>1323</td>\n",
       "      <td>294909510</td>\n",
       "      <td>16.0</td>\n",
       "      <td>559.24</td>\n",
       "      <td>430.030441</td>\n",
       "      <td>52</td>\n",
       "    </tr>\n",
       "    <tr>\n",
       "      <th>13</th>\n",
       "      <td>2014</td>\n",
       "      <td>60.447196</td>\n",
       "      <td>157200000</td>\n",
       "      <td>95850000</td>\n",
       "      <td>1727</td>\n",
       "      <td>296010000</td>\n",
       "      <td>15.3</td>\n",
       "      <td>482.99</td>\n",
       "      <td>435.175449</td>\n",
       "      <td>52</td>\n",
       "    </tr>\n",
       "    <tr>\n",
       "      <th>14</th>\n",
       "      <td>2015</td>\n",
       "      <td>60.447196</td>\n",
       "      <td>156540000</td>\n",
       "      <td>86530000</td>\n",
       "      <td>1308</td>\n",
       "      <td>284333000</td>\n",
       "      <td>14.8</td>\n",
       "      <td>439.80</td>\n",
       "      <td>440.286016</td>\n",
       "      <td>52</td>\n",
       "    </tr>\n",
       "  </tbody>\n",
       "</table>\n",
       "</div>"
      ],
      "text/plain": [
       "    Year    Land(%)  Rice prod  wheat prod  Rice imp  cereal prod  \\\n",
       "0   2001  60.704832  139900000    69680896        63    242963796   \n",
       "1   2002  60.729385  107730304    72766304       872    206636708   \n",
       "2   2003  60.624783  132789000    65760800       339    236592700   \n",
       "3   2004  60.667162  124697104    72156200         0    229845504   \n",
       "4   2005  60.583414  137690096    68636896       256    239997492   \n",
       "5   2006  60.509419  139136992    69354496       162    242785588   \n",
       "6   2007  60.413226  144570000    75806704       145    260485904   \n",
       "7   2008  60.459305  148036000    78570200        85    266835300   \n",
       "8   2009  60.563906  135672992    80679400        66    250783392   \n",
       "9   2010  60.397418  143963008    80803600        95    267838308   \n",
       "10  2011  60.430043  157900000    86874000      1093    287860000   \n",
       "11  2012  60.420626  157800000    94880000       539    293290000   \n",
       "12  2013  60.439461  159200000    93510000      1323    294909510   \n",
       "13  2014  60.447196  157200000    95850000      1727    296010000   \n",
       "14  2015  60.447196  156540000    86530000      1308    284333000   \n",
       "\n",
       "    Undernourishment  Stocks(MT)  Pop density  availability(g/capita/day)  \n",
       "0               19.4      414.57   360.379880                          45  \n",
       "1               21.0      414.57   366.544725                          45  \n",
       "2               22.2      414.57   372.673071                          45  \n",
       "3               22.8      414.57   378.763475                          45  \n",
       "4               22.2      214.56   384.811826                          46  \n",
       "5               20.7      184.09   390.818521                          47  \n",
       "6               19.2      200.40   396.772907                          49  \n",
       "7               18.1      293.19   402.647293                          49  \n",
       "8               17.7      454.40   408.406504                          50  \n",
       "9               17.5      515.60   414.026918                          51  \n",
       "10              17.4      544.90   419.494223                          52  \n",
       "11              16.7      671.10   424.818411                          52  \n",
       "12              16.0      559.24   430.030441                          52  \n",
       "13              15.3      482.99   435.175449                          52  \n",
       "14              14.8      439.80   440.286016                          52  "
      ]
     },
     "execution_count": 7,
     "metadata": {},
     "output_type": "execute_result"
    }
   ],
   "source": [
    "data\n"
   ]
  },
  {
   "cell_type": "code",
   "execution_count": 8,
   "metadata": {},
   "outputs": [],
   "source": [
    "\n",
    "x = data.iloc[:,0:9].values\n",
    "y = data.iloc[:,9].values\n"
   ]
  },
  {
   "cell_type": "code",
   "execution_count": 9,
   "metadata": {},
   "outputs": [],
   "source": [
    "\n",
    "from sklearn.model_selection import train_test_split\n",
    "x_train, x_test, y_train, y_test = train_test_split(x, y, test_size = 0.09, random_state = 0)\n"
   ]
  },
  {
   "cell_type": "code",
   "execution_count": 10,
   "metadata": {},
   "outputs": [
    {
     "data": {
      "text/plain": [
       "LinearRegression(copy_X=True, fit_intercept=True, n_jobs=1, normalize=False)"
      ]
     },
     "execution_count": 10,
     "metadata": {},
     "output_type": "execute_result"
    }
   ],
   "source": [
    "\n",
    "from sklearn.linear_model import LinearRegression\n",
    "regressor = LinearRegression()\n",
    "regressor.fit(x_train, y_train)\n",
    "\n"
   ]
  },
  {
   "cell_type": "code",
   "execution_count": 11,
   "metadata": {},
   "outputs": [],
   "source": [
    "\n",
    "ypred =regressor.predict(x_test)\n"
   ]
  },
  {
   "cell_type": "code",
   "execution_count": 12,
   "metadata": {},
   "outputs": [
    {
     "data": {
      "text/plain": [
       "(2, 9)"
      ]
     },
     "execution_count": 12,
     "metadata": {},
     "output_type": "execute_result"
    }
   ],
   "source": [
    "\n",
    "x_test.shape\n",
    "\n"
   ]
  },
  {
   "cell_type": "code",
   "execution_count": 13,
   "metadata": {},
   "outputs": [
    {
     "data": {
      "text/plain": [
       "array([ 45.15757525,  48.01743683])"
      ]
     },
     "execution_count": 13,
     "metadata": {},
     "output_type": "execute_result"
    }
   ],
   "source": [
    "\n",
    "ypred\n"
   ]
  },
  {
   "cell_type": "code",
   "execution_count": 14,
   "metadata": {},
   "outputs": [],
   "source": [
    "\n",
    "ypred1 = regressor.predict([[2005,60.70483218,139900000,69680896,63,242963796,19.4,414.57,360.3798799]])\n"
   ]
  },
  {
   "cell_type": "code",
   "execution_count": 15,
   "metadata": {},
   "outputs": [
    {
     "name": "stdout",
     "output_type": "stream",
     "text": [
      "[ 25.0410759]\n"
     ]
    }
   ],
   "source": [
    "\n",
    "print(ypred1)\n"
   ]
  },
  {
   "cell_type": "code",
   "execution_count": 16,
   "metadata": {},
   "outputs": [
    {
     "data": {
      "text/plain": [
       "0.87621745819579266"
      ]
     },
     "execution_count": 16,
     "metadata": {},
     "output_type": "execute_result"
    }
   ],
   "source": [
    "\n",
    "from sklearn.metrics import r2_score\n",
    "r2_score(y_test,ypred)\n"
   ]
  },
  {
   "cell_type": "code",
   "execution_count": 17,
   "metadata": {},
   "outputs": [],
   "source": [
    "import seaborn as sns"
   ]
  },
  {
   "cell_type": "code",
   "execution_count": 18,
   "metadata": {},
   "outputs": [
    {
     "data": {
      "text/plain": [
       "<matplotlib.axes._subplots.AxesSubplot at 0x7f679c095e80>"
      ]
     },
     "execution_count": 18,
     "metadata": {},
     "output_type": "execute_result"
    },
    {
     "data": {
      "image/png": "[encoded data removed]",
      "text/plain": [
       "<matplotlib.figure.Figure at 0x7f679c0f3518>"
      ]
     },
     "metadata": {},
     "output_type": "display_data"
    }
   ],
   "source": [
    "sns.heatmap(data.corr())"
   ]
  },
  {
   "cell_type": "code",
   "execution_count": 19,
   "metadata": {},
   "outputs": [
    {
     "data": {
      "text/plain": [
       "<matplotlib.axes._subplots.AxesSubplot at 0x7f67601610f0>"
      ]
     },
     "execution_count": 19,
     "metadata": {},
     "output_type": "execute_result"
    },
    {
     "data": {
      "image/png": "[encoded data removed]",
      "text/plain": [
       "<matplotlib.figure.Figure at 0x7f676016b908>"
      ]
     },
     "metadata": {},
     "output_type": "display_data"
    }
   ],
   "source": [
    "sns.heatmap(data.corr(),annot = True)"
   ]
  },
  {
   "cell_type": "code",
   "execution_count": 20,
   "metadata": {},
   "outputs": [],
   "source": [
    "# Feature Scaling\n",
    "from sklearn.preprocessing import StandardScaler\n",
    "sc = StandardScaler()\n",
    "x_train = sc.fit_transform(x_train)\n",
    "x_test = sc.transform(x_test)\n"
   ]
  },
  {
   "cell_type": "code",
   "execution_count": 21,
   "metadata": {},
   "outputs": [
    {
     "data": {
      "text/plain": [
       "DecisionTreeRegressor(criterion='mse', max_depth=None, max_features=None,\n",
       "           max_leaf_nodes=None, min_impurity_decrease=0.0,\n",
       "           min_impurity_split=None, min_samples_leaf=1,\n",
       "           min_samples_split=2, min_weight_fraction_leaf=0.0,\n",
       "           presort=False, random_state=0, splitter='best')"
      ]
     },
     "execution_count": 21,
     "metadata": {},
     "output_type": "execute_result"
    }
   ],
   "source": [
    "\n",
    "# Fitting Decision Tree regressor to the Training set\n",
    "from sklearn.tree import DecisionTreeRegressor\n",
    "Regressor = DecisionTreeRegressor( random_state = 0)\n",
    "Regressor.fit(x_train, y_train)\n",
    "\n"
   ]
  },
  {
   "cell_type": "code",
   "execution_count": 22,
   "metadata": {},
   "outputs": [],
   "source": [
    "# Predicting the Test set results\n",
    "y_pred = Regressor.predict(x_test)\n"
   ]
  },
  {
   "cell_type": "code",
   "execution_count": 23,
   "metadata": {},
   "outputs": [
    {
     "data": {
      "text/plain": [
       "0.87621745819579266"
      ]
     },
     "execution_count": 23,
     "metadata": {},
     "output_type": "execute_result"
    }
   ],
   "source": [
    "\n",
    "from sklearn.metrics import r2_score\n",
    "r2_score(y_test,ypred)\n"
   ]
  },
  {
   "cell_type": "code",
   "execution_count": 24,
   "metadata": {},
   "outputs": [],
   "source": [
    "import pickle\n",
    "s=pickle.dumps(regressor)"
   ]
  },
  {
   "cell_type": "code",
   "execution_count": 25,
   "metadata": {},
   "outputs": [
    {
     "data": {
      "text/plain": [
       "['filename.pkl']"
      ]
     },
     "execution_count": 25,
     "metadata": {},
     "output_type": "execute_result"
    }
   ],
   "source": [
    "from sklearn.externals import joblib\n",
    "joblib.dump(regressor, 'filename.pkl')"
   ]
  },
  {
   "cell_type": "code",
   "execution_count": 28,
   "metadata": {},
   "outputs": [],
   "source": [
    "from watson_machine_learning_client import WatsonMachineLearningAPIClient"
   ]
  },
  {
   "cell_type": "code",
   "execution_count": 27,
   "metadata": {},
   "outputs": [],
   "source": [
    "wml_credentials={\n",
    "  \"url\": \"https://eu-gb.ml.cloud.ibm.com\",\n",
    "  \"access_key\": \"YVsa0AuqVslYOzVxAtAvbgIHsOQkayl8wsxbalmxpC9p\",\n",
    "  \"username\": \"c395b7e9-01a5-4b1e-8c53-24e546909be0\",\n",
    "  \"password\": \"14c2477a-9d90-4b63-a213-8a769217ddbd\",\n",
    "  \"instance_id\":\"d20a56d2-50a5-4b8c-957d-284d619186b1\"\n",
    "}"
   ]
  },
  {
   "cell_type": "code",
   "execution_count": 29,
   "metadata": {},
   "outputs": [],
   "source": [
    "client = WatsonMachineLearningAPIClient(wml_credentials)"
   ]
  },
  {
   "cell_type": "code",
   "execution_count": 30,
   "metadata": {},
   "outputs": [],
   "source": [
    "instance_details = client.service_instance.get_details()"
   ]
  },
  {
   "cell_type": "code",
   "execution_count": 31,
   "metadata": {},
   "outputs": [],
   "source": [
    "model_props = {client.repository.ModelMetaNames.AUTHOR_NAME: \"S Zenith Kumar\", \n",
    "               client.repository.ModelMetaNames.AUTHOR_EMAIL: \"zenithsamudrala17@gmail.com\", \n",
    "               client.repository.ModelMetaNames.NAME: \"Analysis for food insecurity in India\"}"
   ]
  },
  {
   "cell_type": "code",
   "execution_count": 32,
   "metadata": {},
   "outputs": [],
   "source": [
    "model_artifact =client.repository.store_model(regressor, meta_props=model_props)"
   ]
  },
  {
   "cell_type": "code",
   "execution_count": 33,
   "metadata": {},
   "outputs": [],
   "source": [
    "published_model_uid = client.repository.get_model_uid(model_artifact)"
   ]
  },
  {
   "cell_type": "code",
   "execution_count": 34,
   "metadata": {},
   "outputs": [
    {
     "name": "stdout",
     "output_type": "stream",
     "text": [
      "------------------------------------  -------------------------------------  ------------------------  -----------------\n",
      "GUID                                  NAME                                   CREATED                   FRAMEWORK\n",
      "7431ad45-555a-4a41-b594-608683dd0f99  Analysis for food insecurity in India  2019-06-25T06:27:04.833Z  scikit-learn-0.19\n",
      "------------------------------------  -------------------------------------  ------------------------  -----------------\n"
     ]
    }
   ],
   "source": [
    "client.repository.list_models()"
   ]
  },
  {
   "cell_type": "code",
   "execution_count": 35,
   "metadata": {},
   "outputs": [],
   "source": [
    "loaded_model = client.repository.load(published_model_uid)"
   ]
  },
  {
   "cell_type": "code",
   "execution_count": 36,
   "metadata": {},
   "outputs": [
    {
     "name": "stdout",
     "output_type": "stream",
     "text": [
      "\n",
      "\n",
      "#######################################################################################\n",
      "\n",
      "Synchronous deployment creation for uid: '7431ad45-555a-4a41-b594-608683dd0f99' started\n",
      "\n",
      "#######################################################################################\n",
      "\n",
      "\n",
      "INITIALIZING\n",
      "DEPLOY_SUCCESS\n",
      "\n",
      "\n",
      "------------------------------------------------------------------------------------------------\n",
      "Successfully finished deployment creation, deployment_uid='4c366b45-b47e-4252-b39a-6b3e56a615b8'\n",
      "------------------------------------------------------------------------------------------------\n",
      "\n",
      "\n"
     ]
    }
   ],
   "source": [
    "created_deployment = client.deployments.create(published_model_uid, name=\"Analysis for food insecurity in India\")"
   ]
  },
  {
   "cell_type": "code",
   "execution_count": 37,
   "metadata": {},
   "outputs": [],
   "source": [
    "scoring_endpoint = client.deployments.get_scoring_url(created_deployment)"
   ]
  },
  {
   "cell_type": "code",
   "execution_count": 38,
   "metadata": {},
   "outputs": [
    {
     "data": {
      "text/plain": [
       "'https://eu-gb.ml.cloud.ibm.com/v3/wml_instances/d20a56d2-50a5-4b8c-957d-284d619186b1/deployments/4c366b45-b47e-4252-b39a-6b3e56a615b8/online'"
      ]
     },
     "execution_count": 38,
     "metadata": {},
     "output_type": "execute_result"
    }
   ],
   "source": [
    "scoring_endpoint"
   ]
  },
  {
   "cell_type": "code",
   "execution_count": 39,
   "metadata": {},
   "outputs": [
    {
     "name": "stdout",
     "output_type": "stream",
     "text": [
      "------------------------------------  -------------------------------------  ------  --------------  ------------------------  -----------------  -------------\n",
      "GUID                                  NAME                                   TYPE    STATE           CREATED                   FRAMEWORK          ARTIFACT TYPE\n",
      "4c366b45-b47e-4252-b39a-6b3e56a615b8  Analysis for food insecurity in India  online  DEPLOY_SUCCESS  2019-06-25T06:27:46.735Z  scikit-learn-0.19  model\n",
      "------------------------------------  -------------------------------------  ------  --------------  ------------------------  -----------------  -------------\n"
     ]
    }
   ],
   "source": [
    "client.deployments.list()"
   ]
  },
  {
   "cell_type": "code",
   "execution_count": 40,
   "metadata": {},
   "outputs": [],
   "source": [
    "scoring_payload = {\"fields\": [\"a1\",\"a2\",\"a3\",\"a4\",\"a5\",\"a6\",\"a7\",\"a8\",\"a9\"],\"values\": [[2005,60.70483218,139900000,69680896,63,242963796,19.4,414.57,360.3798799]]}"
   ]
  },
  {
   "cell_type": "code",
   "execution_count": 41,
   "metadata": {},
   "outputs": [],
   "source": [
    "predictions = client.deployments.score(scoring_endpoint, scoring_payload)"
   ]
  },
  {
   "cell_type": "code",
   "execution_count": 42,
   "metadata": {},
   "outputs": [
    {
     "data": {
      "text/plain": [
       "{'fields': ['prediction'], 'values': [[25.04107589776686]]}"
      ]
     },
     "execution_count": 42,
     "metadata": {},
     "output_type": "execute_result"
    }
   ],
   "source": [
    "predictions"
   ]
  },
  {
   "cell_type": "code",
   "execution_count": null,
   "metadata": {},
   "outputs": [],
   "source": []
  }
 ],
 "metadata": {
  "kernelspec": {
   "display_name": "Python 3",
   "language": "python",
   "name": "python3"
  },
  "language_info": {
   "codemirror_mode": {
    "name": "ipython",
    "version": 3
   },
   "file_extension": ".py",
   "mimetype": "text/x-python",
   "name": "python",
   "nbconvert_exporter": "python",
   "pygments_lexer": "ipython3",
   "version": "3.7.3"
  }
 },
 "nbformat": 4,
 "nbformat_minor": 1
}
